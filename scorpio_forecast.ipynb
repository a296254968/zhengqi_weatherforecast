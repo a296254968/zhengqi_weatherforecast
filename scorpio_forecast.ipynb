{
 "cells": [
  {
   "cell_type": "code",
   "execution_count": null,
   "metadata": {},
   "outputs": [],
   "source": [
    "#coding=utf-8\n",
    "import requests\n",
    "import json\n",
    "import urllib.parse\n",
    "\n",
    "# 输入城市\n",
    "city=input(\"请输入城市\")\n",
    "# api接口要求是utf8 urlencode，故进行转化\n",
    "pcity=urllib.parse.quote(city)\n",
    "\n",
    "# 组合成一个新的URL，用于查这个城市的天气\n",
    "url = 'http://v.juhe.cn/weather/index'+'?'+'cityname='+pcity+'&dtype=&format=&key=63ef230ebfe39abe1b7dc17fc829b4dd'\n",
    "req = requests.get(url).json()\n",
    "# 得到其中关于future天气的数据\n",
    "weather_future=req['result']['future']\n",
    "\n",
    "# 输入日期\n",
    "print('请输入要预报的日期，注意需是一周内')\n",
    "date_month=input(\"请输入月份\")\n",
    "# 如果输入的日期是一个数，在前面加个0\n",
    "if len(date_month)==1:\n",
    "    date_month=str(0)+date_month\n",
    "date_day=input(\"请输入日\")\n",
    "if len(date_day)==1:\n",
    "    date_day=str(0)+date_day\n",
    "# 组合成可查找的date\n",
    "date='day_2019'+date_month+date_day\n",
    "\n",
    "# 如果输入的日期在查找范围内则输出天气情况，否则告知不在预测范围\n",
    "try:\n",
    "    weather_date=weather_future[date]\n",
    "    print(\"\\n这天的天气是：\",weather_date['weather'],\"\\n温度为：\",weather_date['temperature'],\n",
    "      \"\\n风量为：\",weather_date['wind'])\n",
    "except Exception as reason:\n",
    "    print(\"输入的日期不在预测范围\")"
   ]
  }
 ],
 "metadata": {
  "kernelspec": {
   "display_name": "Python 3",
   "language": "python",
   "name": "python3"
  },
  "language_info": {
   "codemirror_mode": {
    "name": "ipython",
    "version": 3
   },
   "file_extension": ".py",
   "mimetype": "text/x-python",
   "name": "python",
   "nbconvert_exporter": "python",
   "pygments_lexer": "ipython3",
   "version": "3.7.1"
  }
 },
 "nbformat": 4,
 "nbformat_minor": 2
}
